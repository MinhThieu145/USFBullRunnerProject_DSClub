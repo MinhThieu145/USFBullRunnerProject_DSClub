{
 "cells": [
  {
   "cell_type": "code",
   "execution_count": 54,
   "metadata": {},
   "outputs": [],
   "source": [
    "import pandas as pd\n",
    "import numpy as np\n",
    "import matplotlib.pyplot as plt\n",
    "import seaborn as sns\n",
    "\n"
   ]
  },
  {
   "cell_type": "code",
   "execution_count": 93,
   "metadata": {},
   "outputs": [
    {
     "name": "stderr",
     "output_type": "stream",
     "text": [
      "C:\\Users\\minht\\AppData\\Local\\Temp\\ipykernel_26284\\1872373871.py:5: DtypeWarning: Columns (54) have mixed types. Specify dtype option on import or set low_memory=False.\n",
      "  df_4 = pd.read_csv('data 4.csv')\n"
     ]
    }
   ],
   "source": [
    "# Read in the data\n",
    "df_1 = pd.read_csv('data.csv')\n",
    "df_2 = pd.read_csv('data 2.csv')\n",
    "df_3 = pd.read_csv('data 3.csv')\n",
    "df_4 = pd.read_csv('data 4.csv')"
   ]
  },
  {
   "cell_type": "code",
   "execution_count": 94,
   "metadata": {},
   "outputs": [
    {
     "data": {
      "text/html": [
       "<div>\n",
       "<style scoped>\n",
       "    .dataframe tbody tr th:only-of-type {\n",
       "        vertical-align: middle;\n",
       "    }\n",
       "\n",
       "    .dataframe tbody tr th {\n",
       "        vertical-align: top;\n",
       "    }\n",
       "\n",
       "    .dataframe thead th {\n",
       "        text-align: right;\n",
       "    }\n",
       "</style>\n",
       "<table border=\"1\" class=\"dataframe\">\n",
       "  <thead>\n",
       "    <tr style=\"text-align: right;\">\n",
       "      <th></th>\n",
       "      <th>Id</th>\n",
       "      <th>Date</th>\n",
       "      <th>Time</th>\n",
       "      <th>Ms</th>\n",
       "      <th>Bus</th>\n",
       "      <th>Driver</th>\n",
       "      <th>ETA</th>\n",
       "      <th>Count</th>\n",
       "      <th>Customer</th>\n",
       "      <th>Device</th>\n",
       "      <th>...</th>\n",
       "      <th>Time point</th>\n",
       "      <th>Time point ID</th>\n",
       "      <th>Syslog ID</th>\n",
       "      <th>Firmware</th>\n",
       "      <th>Firmware ID</th>\n",
       "      <th>Log upload</th>\n",
       "      <th>Log upload ID</th>\n",
       "      <th>Bus update log ID</th>\n",
       "      <th>Created utc</th>\n",
       "      <th>Datetime utc</th>\n",
       "    </tr>\n",
       "  </thead>\n",
       "  <tbody>\n",
       "    <tr>\n",
       "      <th>0</th>\n",
       "      <td>406029029</td>\n",
       "      <td>4/30/2022</td>\n",
       "      <td>18:12:13</td>\n",
       "      <td>825</td>\n",
       "      <td>1535</td>\n",
       "      <td>D66 Thea</td>\n",
       "      <td>NaN</td>\n",
       "      <td>1</td>\n",
       "      <td>usf</td>\n",
       "      <td>APC1-A32334</td>\n",
       "      <td>...</td>\n",
       "      <td>NaN</td>\n",
       "      <td>NaN</td>\n",
       "      <td>NaN</td>\n",
       "      <td>NaN</td>\n",
       "      <td>NaN</td>\n",
       "      <td>NaN</td>\n",
       "      <td>NaN</td>\n",
       "      <td>421767598</td>\n",
       "      <td>NaN</td>\n",
       "      <td>NaN</td>\n",
       "    </tr>\n",
       "    <tr>\n",
       "      <th>1</th>\n",
       "      <td>406028335</td>\n",
       "      <td>4/30/2022</td>\n",
       "      <td>18:08:05</td>\n",
       "      <td>572</td>\n",
       "      <td>1534</td>\n",
       "      <td>D61 Rosa</td>\n",
       "      <td>NaN</td>\n",
       "      <td>1</td>\n",
       "      <td>usf</td>\n",
       "      <td>APC1-A322B2</td>\n",
       "      <td>...</td>\n",
       "      <td>NaN</td>\n",
       "      <td>NaN</td>\n",
       "      <td>NaN</td>\n",
       "      <td>NaN</td>\n",
       "      <td>NaN</td>\n",
       "      <td>NaN</td>\n",
       "      <td>NaN</td>\n",
       "      <td>421765976</td>\n",
       "      <td>NaN</td>\n",
       "      <td>NaN</td>\n",
       "    </tr>\n",
       "    <tr>\n",
       "      <th>2</th>\n",
       "      <td>406027917</td>\n",
       "      <td>4/30/2022</td>\n",
       "      <td>18:03:40</td>\n",
       "      <td>344</td>\n",
       "      <td>1534</td>\n",
       "      <td>D61 Rosa</td>\n",
       "      <td>NaN</td>\n",
       "      <td>4</td>\n",
       "      <td>usf</td>\n",
       "      <td>USF-91142</td>\n",
       "      <td>...</td>\n",
       "      <td>NaN</td>\n",
       "      <td>NaN</td>\n",
       "      <td>NaN</td>\n",
       "      <td>NaN</td>\n",
       "      <td>NaN</td>\n",
       "      <td>4/30/2022 18:05</td>\n",
       "      <td>137334749.0</td>\n",
       "      <td>421764973</td>\n",
       "      <td>NaN</td>\n",
       "      <td>NaN</td>\n",
       "    </tr>\n",
       "    <tr>\n",
       "      <th>3</th>\n",
       "      <td>406027641</td>\n",
       "      <td>4/30/2022</td>\n",
       "      <td>18:03:35</td>\n",
       "      <td>625</td>\n",
       "      <td>1534</td>\n",
       "      <td>D61 Rosa</td>\n",
       "      <td>NaN</td>\n",
       "      <td>1</td>\n",
       "      <td>usf</td>\n",
       "      <td>APC1-A322B2</td>\n",
       "      <td>...</td>\n",
       "      <td>NaN</td>\n",
       "      <td>NaN</td>\n",
       "      <td>NaN</td>\n",
       "      <td>NaN</td>\n",
       "      <td>NaN</td>\n",
       "      <td>NaN</td>\n",
       "      <td>NaN</td>\n",
       "      <td>421764292</td>\n",
       "      <td>NaN</td>\n",
       "      <td>NaN</td>\n",
       "    </tr>\n",
       "    <tr>\n",
       "      <th>4</th>\n",
       "      <td>406027634</td>\n",
       "      <td>4/30/2022</td>\n",
       "      <td>18:03:31</td>\n",
       "      <td>442</td>\n",
       "      <td>1534</td>\n",
       "      <td>D61 Rosa</td>\n",
       "      <td>NaN</td>\n",
       "      <td>1</td>\n",
       "      <td>usf</td>\n",
       "      <td>APC1-A322B2</td>\n",
       "      <td>...</td>\n",
       "      <td>NaN</td>\n",
       "      <td>NaN</td>\n",
       "      <td>NaN</td>\n",
       "      <td>NaN</td>\n",
       "      <td>NaN</td>\n",
       "      <td>NaN</td>\n",
       "      <td>NaN</td>\n",
       "      <td>421764276</td>\n",
       "      <td>NaN</td>\n",
       "      <td>NaN</td>\n",
       "    </tr>\n",
       "  </tbody>\n",
       "</table>\n",
       "<p>5 rows × 56 columns</p>\n",
       "</div>"
      ],
      "text/plain": [
       "          Id       Date      Time   Ms   Bus    Driver  ETA  Count Customer  \\\n",
       "0  406029029  4/30/2022  18:12:13  825  1535  D66 Thea  NaN      1      usf   \n",
       "1  406028335  4/30/2022  18:08:05  572  1534  D61 Rosa  NaN      1      usf   \n",
       "2  406027917  4/30/2022  18:03:40  344  1534  D61 Rosa  NaN      4      usf   \n",
       "3  406027641  4/30/2022  18:03:35  625  1534  D61 Rosa  NaN      1      usf   \n",
       "4  406027634  4/30/2022  18:03:31  442  1534  D61 Rosa  NaN      1      usf   \n",
       "\n",
       "        Device  ... Time point Time point ID  Syslog ID  Firmware  \\\n",
       "0  APC1-A32334  ...        NaN           NaN        NaN       NaN   \n",
       "1  APC1-A322B2  ...        NaN           NaN        NaN       NaN   \n",
       "2    USF-91142  ...        NaN           NaN        NaN       NaN   \n",
       "3  APC1-A322B2  ...        NaN           NaN        NaN       NaN   \n",
       "4  APC1-A322B2  ...        NaN           NaN        NaN       NaN   \n",
       "\n",
       "   Firmware ID       Log upload  Log upload ID  Bus update log ID  \\\n",
       "0          NaN              NaN            NaN          421767598   \n",
       "1          NaN              NaN            NaN          421765976   \n",
       "2          NaN  4/30/2022 18:05    137334749.0          421764973   \n",
       "3          NaN              NaN            NaN          421764292   \n",
       "4          NaN              NaN            NaN          421764276   \n",
       "\n",
       "   Created utc  Datetime utc  \n",
       "0          NaN           NaN  \n",
       "1          NaN           NaN  \n",
       "2          NaN           NaN  \n",
       "3          NaN           NaN  \n",
       "4          NaN           NaN  \n",
       "\n",
       "[5 rows x 56 columns]"
      ]
     },
     "execution_count": 94,
     "metadata": {},
     "output_type": "execute_result"
    }
   ],
   "source": [
    "df_1.head()"
   ]
  },
  {
   "cell_type": "code",
   "execution_count": 95,
   "metadata": {},
   "outputs": [
    {
     "data": {
      "text/plain": [
       "(143259, 56)"
      ]
     },
     "execution_count": 95,
     "metadata": {},
     "output_type": "execute_result"
    }
   ],
   "source": [
    "df_1.shape"
   ]
  },
  {
   "attachments": {},
   "cell_type": "markdown",
   "metadata": {},
   "source": [
    "## Start from one day"
   ]
  },
  {
   "cell_type": "code",
   "execution_count": 96,
   "metadata": {},
   "outputs": [
    {
     "data": {
      "text/plain": [
       "2/9/2022     3146\n",
       "3/7/2022     3042\n",
       "2/10/2022    2962\n",
       "2/15/2022    2910\n",
       "3/1/2022     2898\n",
       "             ... \n",
       "2/20/2022     393\n",
       "4/24/2022     351\n",
       "3/13/2022     259\n",
       "3/20/2022     169\n",
       "3/19/2022     146\n",
       "Name: Date, Length: 89, dtype: int64"
      ]
     },
     "execution_count": 96,
     "metadata": {},
     "output_type": "execute_result"
    }
   ],
   "source": [
    "# As the data is so messy and so many. I'll start with just one day of data\n",
    "\n",
    "df_1.Date.value_counts() # I'll select the day with most data: 2022-02-09"
   ]
  },
  {
   "cell_type": "code",
   "execution_count": 112,
   "metadata": {},
   "outputs": [],
   "source": [
    "df_02_09 = df_1[df_1.Date == '2/9/2022']"
   ]
  },
  {
   "cell_type": "code",
   "execution_count": 114,
   "metadata": {},
   "outputs": [],
   "source": [
    "df_02_09.shape\n",
    "\n",
    "# Export it just to see beter\n",
    "df_02_09.to_csv('df_02_09.csv', index=False)\n",
    "\n",
    "# Still alot, will go to one bus specifically"
   ]
  },
  {
   "attachments": {},
   "cell_type": "markdown",
   "metadata": {},
   "source": [
    "## One bus"
   ]
  },
  {
   "cell_type": "code",
   "execution_count": 115,
   "metadata": {},
   "outputs": [
    {
     "data": {
      "text/plain": [
       "9812    601\n",
       "9804    549\n",
       "9807    528\n",
       "9794    375\n",
       "9819    278\n",
       "9796    247\n",
       "9806    164\n",
       "9808    137\n",
       "9811    100\n",
       "9795     95\n",
       "9809     69\n",
       "9802      2\n",
       "9810      1\n",
       "Name: Bus ID, dtype: int64"
      ]
     },
     "execution_count": 115,
     "metadata": {},
     "output_type": "execute_result"
    }
   ],
   "source": [
    "df_02_09['Bus ID'].value_counts() # I'll select the bus with most data: 9812"
   ]
  },
  {
   "cell_type": "code",
   "execution_count": 116,
   "metadata": {},
   "outputs": [],
   "source": [
    "df_02_09_9812 = df_02_09[df_02_09['Bus ID'] == 9812]\n",
    "\n",
    "df_02_09_9812.shape\n",
    "\n",
    "df_02_09_9812\n",
    "\n",
    "# Export it just to see beter\n",
    "df_02_09_9812.to_csv('df_02_09_9812.csv', index=False)"
   ]
  },
  {
   "cell_type": "code",
   "execution_count": 117,
   "metadata": {},
   "outputs": [
    {
     "data": {
      "text/plain": [
       "D14 Nicole    349\n",
       "D03 Nelson    219\n",
       "D68 Marc       33\n",
       "Name: Driver, dtype: int64"
      ]
     },
     "execution_count": 117,
     "metadata": {},
     "output_type": "execute_result"
    }
   ],
   "source": [
    "# Among column, I find 2 drivers in the driver column (for the same bus on same day)\n",
    "\n",
    "df_02_09_9812.Driver.value_counts()"
   ]
  },
  {
   "cell_type": "code",
   "execution_count": 118,
   "metadata": {},
   "outputs": [
    {
     "name": "stderr",
     "output_type": "stream",
     "text": [
      "C:\\Users\\minht\\AppData\\Local\\Temp\\ipykernel_26284\\877233898.py:2: SettingWithCopyWarning: \n",
      "A value is trying to be set on a copy of a slice from a DataFrame.\n",
      "Try using .loc[row_indexer,col_indexer] = value instead\n",
      "\n",
      "See the caveats in the documentation: https://pandas.pydata.org/pandas-docs/stable/user_guide/indexing.html#returning-a-view-versus-a-copy\n",
      "  df_02_09_9812.Time = df_02_09_9812.Time.astype('datetime64[ns]')\n"
     ]
    }
   ],
   "source": [
    "# Convert a little\n",
    "df_02_09_9812.Time = df_02_09_9812.Time.astype('datetime64[ns]')\n",
    "\n",
    "temp = df_02_09_9812[df_02_09_9812.Driver == 'D14 Nicole']\n"
   ]
  },
  {
   "cell_type": "code",
   "execution_count": 119,
   "metadata": {},
   "outputs": [
    {
     "data": {
      "image/png": "[encoded data removed]",
      "text/plain": [
       "<Figure size 2000x1000 with 1 Axes>"
      ]
     },
     "metadata": {},
     "output_type": "display_data"
    }
   ],
   "source": [
    "# Plot the time\n",
    "plt.figure(figsize=(20, 10))\n",
    "\n",
    "# Plot the distribution of the time\n",
    "sns.histplot(temp.Time, kde=False, bins=24)\n",
    "\n",
    "plt.title('Time Distribution of Driver D14 Nicole', fontsize=20)\n",
    "plt.xlabel('Time', fontsize=15)\n",
    "plt.ylabel('Count', fontsize=15)\n",
    "\n",
    "plt.show()\n"
   ]
  },
  {
   "cell_type": "code",
   "execution_count": 120,
   "metadata": {},
   "outputs": [
    {
     "data": {
      "text/html": [
       "<div>\n",
       "<style scoped>\n",
       "    .dataframe tbody tr th:only-of-type {\n",
       "        vertical-align: middle;\n",
       "    }\n",
       "\n",
       "    .dataframe tbody tr th {\n",
       "        vertical-align: top;\n",
       "    }\n",
       "\n",
       "    .dataframe thead th {\n",
       "        text-align: right;\n",
       "    }\n",
       "</style>\n",
       "<table border=\"1\" class=\"dataframe\">\n",
       "  <thead>\n",
       "    <tr style=\"text-align: right;\">\n",
       "      <th></th>\n",
       "      <th>Time</th>\n",
       "      <th>Driver</th>\n",
       "    </tr>\n",
       "  </thead>\n",
       "  <tbody>\n",
       "    <tr>\n",
       "      <th>125494</th>\n",
       "      <td>2023-02-17 23:59:17</td>\n",
       "      <td>D14 Nicole</td>\n",
       "    </tr>\n",
       "    <tr>\n",
       "      <th>125501</th>\n",
       "      <td>2023-02-17 23:49:58</td>\n",
       "      <td>D14 Nicole</td>\n",
       "    </tr>\n",
       "    <tr>\n",
       "      <th>125502</th>\n",
       "      <td>2023-02-17 23:49:24</td>\n",
       "      <td>D14 Nicole</td>\n",
       "    </tr>\n",
       "    <tr>\n",
       "      <th>125505</th>\n",
       "      <td>2023-02-17 23:40:52</td>\n",
       "      <td>D14 Nicole</td>\n",
       "    </tr>\n",
       "    <tr>\n",
       "      <th>125510</th>\n",
       "      <td>2023-02-17 23:23:22</td>\n",
       "      <td>D14 Nicole</td>\n",
       "    </tr>\n",
       "    <tr>\n",
       "      <th>...</th>\n",
       "      <td>...</td>\n",
       "      <td>...</td>\n",
       "    </tr>\n",
       "    <tr>\n",
       "      <th>128568</th>\n",
       "      <td>2023-02-17 07:44:15</td>\n",
       "      <td>D03 Nelson</td>\n",
       "    </tr>\n",
       "    <tr>\n",
       "      <th>128569</th>\n",
       "      <td>2023-02-17 07:44:11</td>\n",
       "      <td>D03 Nelson</td>\n",
       "    </tr>\n",
       "    <tr>\n",
       "      <th>128603</th>\n",
       "      <td>2023-02-17 07:30:16</td>\n",
       "      <td>D03 Nelson</td>\n",
       "    </tr>\n",
       "    <tr>\n",
       "      <th>128611</th>\n",
       "      <td>2023-02-17 07:21:17</td>\n",
       "      <td>D03 Nelson</td>\n",
       "    </tr>\n",
       "    <tr>\n",
       "      <th>128613</th>\n",
       "      <td>2023-02-17 07:20:48</td>\n",
       "      <td>D03 Nelson</td>\n",
       "    </tr>\n",
       "  </tbody>\n",
       "</table>\n",
       "<p>601 rows × 2 columns</p>\n",
       "</div>"
      ],
      "text/plain": [
       "                      Time      Driver\n",
       "125494 2023-02-17 23:59:17  D14 Nicole\n",
       "125501 2023-02-17 23:49:58  D14 Nicole\n",
       "125502 2023-02-17 23:49:24  D14 Nicole\n",
       "125505 2023-02-17 23:40:52  D14 Nicole\n",
       "125510 2023-02-17 23:23:22  D14 Nicole\n",
       "...                    ...         ...\n",
       "128568 2023-02-17 07:44:15  D03 Nelson\n",
       "128569 2023-02-17 07:44:11  D03 Nelson\n",
       "128603 2023-02-17 07:30:16  D03 Nelson\n",
       "128611 2023-02-17 07:21:17  D03 Nelson\n",
       "128613 2023-02-17 07:20:48  D03 Nelson\n",
       "\n",
       "[601 rows x 2 columns]"
      ]
     },
     "execution_count": 120,
     "metadata": {},
     "output_type": "execute_result"
    }
   ],
   "source": [
    "# okay, I don't feel so good, let's go back. \n",
    "\n",
    "temp = df_02_09_9812[[\"Time\", \"Driver\"]]\n",
    "temp\n",
    "\n",
    "# export it\n"
   ]
  },
  {
   "attachments": {},
   "cell_type": "markdown",
   "metadata": {},
   "source": [
    "### OKay, so I looked at the excel a bit, and here's what I found:\n",
    "\n",
    "- the time column, while looked like it's continous, it actually doesn't have any meaning, as it just sort according to time, and not the bus id\n",
    "- one bus can have serveral drivers throughout the day\n",
    "- it seems like one bus on one day only have one route -> make sense (the route is also the name of the bus, they can't change lol)"
   ]
  },
  {
   "cell_type": "code",
   "execution_count": 121,
   "metadata": {},
   "outputs": [
    {
     "data": {
      "image/png": "[encoded data removed]",
      "text/plain": [
       "<Figure size 2000x1000 with 1 Axes>"
      ]
     },
     "metadata": {},
     "output_type": "display_data"
    }
   ],
   "source": [
    "# make seaborn stacked bar chart from Time and Driver\n",
    "plt.figure(figsize=(20, 10))\n",
    "\n",
    "# convert the time to hour\n",
    "sns.countplot(x=\"Time\", hue=\"Driver\", data=temp)\n",
    "\n",
    "plt.title('Time Distribution of Driver D14 Nicole', fontsize=20)\n",
    "\n",
    "# on the x-axis only display every 5th label\n",
    "plt.xticks(temp.Time.dt.hour)\n",
    "plt.ylabel('Count', fontsize=15)\n",
    "\n",
    "plt.show()\n"
   ]
  },
  {
   "cell_type": "code",
   "execution_count": 122,
   "metadata": {},
   "outputs": [
    {
     "name": "stderr",
     "output_type": "stream",
     "text": [
      "C:\\Users\\minht\\AppData\\Local\\Temp\\ipykernel_26284\\127939563.py:5: SettingWithCopyWarning: \n",
      "A value is trying to be set on a copy of a slice from a DataFrame.\n",
      "Try using .loc[row_indexer,col_indexer] = value instead\n",
      "\n",
      "See the caveats in the documentation: https://pandas.pydata.org/pandas-docs/stable/user_guide/indexing.html#returning-a-view-versus-a-copy\n",
      "  temp.Time = temp.Time.dt.hour\n"
     ]
    },
    {
     "data": {
      "image/png": "[encoded data removed]",
      "text/plain": [
       "<Figure size 2000x1000 with 1 Axes>"
      ]
     },
     "metadata": {},
     "output_type": "display_data"
    }
   ],
   "source": [
    "# make seaborn stacked bar chart from Time and Driver\n",
    "plt.figure(figsize=(20, 10))\n",
    "\n",
    "# convert the time to hour\n",
    "temp.Time = temp.Time.dt.hour\n",
    "\n",
    "sns.countplot(x=\"Time\", hue=\"Driver\", data=temp)\n",
    "\n",
    "plt.title('Time Distribution of Driver D14 Nicole', fontsize=20)\n",
    "\n",
    "# on the x-axis only display every 5th label\n",
    "plt.ylabel('Count', fontsize=15)\n",
    "\n",
    "plt.show()"
   ]
  },
  {
   "cell_type": "code",
   "execution_count": 123,
   "metadata": {},
   "outputs": [
    {
     "name": "stderr",
     "output_type": "stream",
     "text": [
      "C:\\Users\\minht\\AppData\\Local\\Temp\\ipykernel_26284\\2274417502.py:3: SettingWithCopyWarning: \n",
      "A value is trying to be set on a copy of a slice from a DataFrame.\n",
      "Try using .loc[row_indexer,col_indexer] = value instead\n",
      "\n",
      "See the caveats in the documentation: https://pandas.pydata.org/pandas-docs/stable/user_guide/indexing.html#returning-a-view-versus-a-copy\n",
      "  temp['Route'] = df_02_09_9812.Route\n"
     ]
    }
   ],
   "source": [
    "# Now add Router column to temp dataframe\n",
    "\n",
    "temp['Route'] = df_02_09_9812.Route\n",
    "temp.to_csv('temp.csv', index=False) \n",
    "\n"
   ]
  },
  {
   "cell_type": "code",
   "execution_count": 127,
   "metadata": {},
   "outputs": [
    {
     "name": "stderr",
     "output_type": "stream",
     "text": [
      "C:\\Users\\minht\\AppData\\Local\\Temp\\ipykernel_26284\\603787452.py:3: SettingWithCopyWarning: \n",
      "A value is trying to be set on a copy of a slice from a DataFrame.\n",
      "Try using .loc[row_indexer,col_indexer] = value instead\n",
      "\n",
      "See the caveats in the documentation: https://pandas.pydata.org/pandas-docs/stable/user_guide/indexing.html#returning-a-view-versus-a-copy\n",
      "  temp['Stop'] = df_02_09_9812.Stop\n"
     ]
    }
   ],
   "source": [
    "# How about Stop?\n",
    "\n",
    "temp['Stop'] = df_02_09_9812.Stop\n",
    "temp.to_csv('temp.csv', index=False)"
   ]
  },
  {
   "cell_type": "code",
   "execution_count": 128,
   "metadata": {},
   "outputs": [
    {
     "name": "stderr",
     "output_type": "stream",
     "text": [
      "C:\\Users\\minht\\AppData\\Local\\Temp\\ipykernel_26284\\3118448529.py:2: SettingWithCopyWarning: \n",
      "A value is trying to be set on a copy of a slice from a DataFrame.\n",
      "Try using .loc[row_indexer,col_indexer] = value instead\n",
      "\n",
      "See the caveats in the documentation: https://pandas.pydata.org/pandas-docs/stable/user_guide/indexing.html#returning-a-view-versus-a-copy\n",
      "  temp.Time = df_02_09_9812.Time.dt.strftime('%H:%M')\n"
     ]
    }
   ],
   "source": [
    "# Change a little for the time column. Only get the hour and minute\n",
    "temp.Time = df_02_09_9812.Time.dt.strftime('%H:%M')\n",
    "\n",
    "# Export it\n",
    "temp.to_csv('temp.csv', index=False)\n"
   ]
  },
  {
   "cell_type": "code",
   "execution_count": 150,
   "metadata": {},
   "outputs": [
    {
     "data": {
      "text/html": [
       "<div>\n",
       "<style scoped>\n",
       "    .dataframe tbody tr th:only-of-type {\n",
       "        vertical-align: middle;\n",
       "    }\n",
       "\n",
       "    .dataframe tbody tr th {\n",
       "        vertical-align: top;\n",
       "    }\n",
       "\n",
       "    .dataframe thead th {\n",
       "        text-align: right;\n",
       "    }\n",
       "</style>\n",
       "<table border=\"1\" class=\"dataframe\">\n",
       "  <thead>\n",
       "    <tr style=\"text-align: right;\">\n",
       "      <th></th>\n",
       "      <th>Time</th>\n",
       "      <th>Driver</th>\n",
       "      <th>Route</th>\n",
       "      <th>Stop</th>\n",
       "    </tr>\n",
       "  </thead>\n",
       "  <tbody>\n",
       "    <tr>\n",
       "      <th>596</th>\n",
       "      <td>7:44</td>\n",
       "      <td>D03 Nelson</td>\n",
       "      <td>Green</td>\n",
       "      <td>Stop 00970 - Parking Lot 56</td>\n",
       "    </tr>\n",
       "    <tr>\n",
       "      <th>597</th>\n",
       "      <td>7:44</td>\n",
       "      <td>D03 Nelson</td>\n",
       "      <td>Green</td>\n",
       "      <td>Stop 00970 - Parking Lot 56</td>\n",
       "    </tr>\n",
       "    <tr>\n",
       "      <th>598</th>\n",
       "      <td>7:30</td>\n",
       "      <td>D03 Nelson</td>\n",
       "      <td>Green</td>\n",
       "      <td>Stop 00214 - Juniper-Poplar</td>\n",
       "    </tr>\n",
       "    <tr>\n",
       "      <th>599</th>\n",
       "      <td>7:21</td>\n",
       "      <td>D03 Nelson</td>\n",
       "      <td>Green</td>\n",
       "      <td>Stop 00827 - N 42nd St at Cambridge Woods Dr</td>\n",
       "    </tr>\n",
       "    <tr>\n",
       "      <th>600</th>\n",
       "      <td>7:20</td>\n",
       "      <td>D03 Nelson</td>\n",
       "      <td>Green</td>\n",
       "      <td>Stop 00827 - N 42nd St at Cambridge Woods Dr</td>\n",
       "    </tr>\n",
       "  </tbody>\n",
       "</table>\n",
       "</div>"
      ],
      "text/plain": [
       "     Time      Driver  Route                                          Stop\n",
       "596  7:44  D03 Nelson  Green                   Stop 00970 - Parking Lot 56\n",
       "597  7:44  D03 Nelson  Green                   Stop 00970 - Parking Lot 56\n",
       "598  7:30  D03 Nelson  Green                   Stop 00214 - Juniper-Poplar\n",
       "599  7:21  D03 Nelson  Green  Stop 00827 - N 42nd St at Cambridge Woods Dr\n",
       "600  7:20  D03 Nelson  Green  Stop 00827 - N 42nd St at Cambridge Woods Dr"
      ]
     },
     "execution_count": 150,
     "metadata": {},
     "output_type": "execute_result"
    }
   ],
   "source": [
    "temp = pd.read_csv('temp.csv')\n",
    "temp.tail()"
   ]
  },
  {
   "cell_type": "code",
   "execution_count": 151,
   "metadata": {},
   "outputs": [],
   "source": [
    "# Delete consecutive rows with same values\n",
    "temp_2 = temp\n",
    "\n",
    "temp_2 = temp.reset_index(drop=True)\n",
    "# loop through each row with index\n",
    "index_list = []\n",
    "for i in range(len(temp_2),-1,-1):\n",
    "    # if the value in Stop is the same as the value of the last index in the list\n",
    "    if temp_2.iloc[i-1,3] not in index_list:\n",
    "        # remove all values from list\n",
    "        index_list = []\n",
    "        # add the index to the list\n",
    "        index_list.append(temp_2.iloc[i-1,3])\n",
    "    else:\n",
    "        # delete the row\n",
    "        temp_2.drop(i-1, inplace=True)"
   ]
  },
  {
   "cell_type": "code",
   "execution_count": 154,
   "metadata": {},
   "outputs": [
    {
     "ename": "PermissionError",
     "evalue": "[Errno 13] Permission denied: 'temp_2.csv'",
     "output_type": "error",
     "traceback": [
      "\u001b[1;31m---------------------------------------------------------------------------\u001b[0m",
      "\u001b[1;31mPermissionError\u001b[0m                           Traceback (most recent call last)",
      "Cell \u001b[1;32mIn[154], line 1\u001b[0m\n\u001b[1;32m----> 1\u001b[0m temp_2\u001b[39m.\u001b[39;49mto_csv(\u001b[39m'\u001b[39;49m\u001b[39mtemp_2.csv\u001b[39;49m\u001b[39m'\u001b[39;49m, index\u001b[39m=\u001b[39;49m\u001b[39mFalse\u001b[39;49;00m)\n",
      "File \u001b[1;32mc:\\Users\\minht\\.conda\\envs\\DataAnalyst\\lib\\site-packages\\pandas\\util\\_decorators.py:211\u001b[0m, in \u001b[0;36mdeprecate_kwarg.<locals>._deprecate_kwarg.<locals>.wrapper\u001b[1;34m(*args, **kwargs)\u001b[0m\n\u001b[0;32m    209\u001b[0m     \u001b[39melse\u001b[39;00m:\n\u001b[0;32m    210\u001b[0m         kwargs[new_arg_name] \u001b[39m=\u001b[39m new_arg_value\n\u001b[1;32m--> 211\u001b[0m \u001b[39mreturn\u001b[39;00m func(\u001b[39m*\u001b[39margs, \u001b[39m*\u001b[39m\u001b[39m*\u001b[39mkwargs)\n",
      "File \u001b[1;32mc:\\Users\\minht\\.conda\\envs\\DataAnalyst\\lib\\site-packages\\pandas\\core\\generic.py:3720\u001b[0m, in \u001b[0;36mNDFrame.to_csv\u001b[1;34m(self, path_or_buf, sep, na_rep, float_format, columns, header, index, index_label, mode, encoding, compression, quoting, quotechar, lineterminator, chunksize, date_format, doublequote, escapechar, decimal, errors, storage_options)\u001b[0m\n\u001b[0;32m   3709\u001b[0m df \u001b[39m=\u001b[39m \u001b[39mself\u001b[39m \u001b[39mif\u001b[39;00m \u001b[39misinstance\u001b[39m(\u001b[39mself\u001b[39m, ABCDataFrame) \u001b[39melse\u001b[39;00m \u001b[39mself\u001b[39m\u001b[39m.\u001b[39mto_frame()\n\u001b[0;32m   3711\u001b[0m formatter \u001b[39m=\u001b[39m DataFrameFormatter(\n\u001b[0;32m   3712\u001b[0m     frame\u001b[39m=\u001b[39mdf,\n\u001b[0;32m   3713\u001b[0m     header\u001b[39m=\u001b[39mheader,\n\u001b[1;32m   (...)\u001b[0m\n\u001b[0;32m   3717\u001b[0m     decimal\u001b[39m=\u001b[39mdecimal,\n\u001b[0;32m   3718\u001b[0m )\n\u001b[1;32m-> 3720\u001b[0m \u001b[39mreturn\u001b[39;00m DataFrameRenderer(formatter)\u001b[39m.\u001b[39;49mto_csv(\n\u001b[0;32m   3721\u001b[0m     path_or_buf,\n\u001b[0;32m   3722\u001b[0m     lineterminator\u001b[39m=\u001b[39;49mlineterminator,\n\u001b[0;32m   3723\u001b[0m     sep\u001b[39m=\u001b[39;49msep,\n\u001b[0;32m   3724\u001b[0m     encoding\u001b[39m=\u001b[39;49mencoding,\n\u001b[0;32m   3725\u001b[0m     errors\u001b[39m=\u001b[39;49merrors,\n\u001b[0;32m   3726\u001b[0m     compression\u001b[39m=\u001b[39;49mcompression,\n\u001b[0;32m   3727\u001b[0m     quoting\u001b[39m=\u001b[39;49mquoting,\n\u001b[0;32m   3728\u001b[0m     columns\u001b[39m=\u001b[39;49mcolumns,\n\u001b[0;32m   3729\u001b[0m     index_label\u001b[39m=\u001b[39;49mindex_label,\n\u001b[0;32m   3730\u001b[0m     mode\u001b[39m=\u001b[39;49mmode,\n\u001b[0;32m   3731\u001b[0m     chunksize\u001b[39m=\u001b[39;49mchunksize,\n\u001b[0;32m   3732\u001b[0m     quotechar\u001b[39m=\u001b[39;49mquotechar,\n\u001b[0;32m   3733\u001b[0m     date_format\u001b[39m=\u001b[39;49mdate_format,\n\u001b[0;32m   3734\u001b[0m     doublequote\u001b[39m=\u001b[39;49mdoublequote,\n\u001b[0;32m   3735\u001b[0m     escapechar\u001b[39m=\u001b[39;49mescapechar,\n\u001b[0;32m   3736\u001b[0m     storage_options\u001b[39m=\u001b[39;49mstorage_options,\n\u001b[0;32m   3737\u001b[0m )\n",
      "File \u001b[1;32mc:\\Users\\minht\\.conda\\envs\\DataAnalyst\\lib\\site-packages\\pandas\\util\\_decorators.py:211\u001b[0m, in \u001b[0;36mdeprecate_kwarg.<locals>._deprecate_kwarg.<locals>.wrapper\u001b[1;34m(*args, **kwargs)\u001b[0m\n\u001b[0;32m    209\u001b[0m     \u001b[39melse\u001b[39;00m:\n\u001b[0;32m    210\u001b[0m         kwargs[new_arg_name] \u001b[39m=\u001b[39m new_arg_value\n\u001b[1;32m--> 211\u001b[0m \u001b[39mreturn\u001b[39;00m func(\u001b[39m*\u001b[39margs, \u001b[39m*\u001b[39m\u001b[39m*\u001b[39mkwargs)\n",
      "File \u001b[1;32mc:\\Users\\minht\\.conda\\envs\\DataAnalyst\\lib\\site-packages\\pandas\\io\\formats\\format.py:1189\u001b[0m, in \u001b[0;36mDataFrameRenderer.to_csv\u001b[1;34m(self, path_or_buf, encoding, sep, columns, index_label, mode, compression, quoting, quotechar, lineterminator, chunksize, date_format, doublequote, escapechar, errors, storage_options)\u001b[0m\n\u001b[0;32m   1168\u001b[0m     created_buffer \u001b[39m=\u001b[39m \u001b[39mFalse\u001b[39;00m\n\u001b[0;32m   1170\u001b[0m csv_formatter \u001b[39m=\u001b[39m CSVFormatter(\n\u001b[0;32m   1171\u001b[0m     path_or_buf\u001b[39m=\u001b[39mpath_or_buf,\n\u001b[0;32m   1172\u001b[0m     lineterminator\u001b[39m=\u001b[39mlineterminator,\n\u001b[1;32m   (...)\u001b[0m\n\u001b[0;32m   1187\u001b[0m     formatter\u001b[39m=\u001b[39m\u001b[39mself\u001b[39m\u001b[39m.\u001b[39mfmt,\n\u001b[0;32m   1188\u001b[0m )\n\u001b[1;32m-> 1189\u001b[0m csv_formatter\u001b[39m.\u001b[39;49msave()\n\u001b[0;32m   1191\u001b[0m \u001b[39mif\u001b[39;00m created_buffer:\n\u001b[0;32m   1192\u001b[0m     \u001b[39massert\u001b[39;00m \u001b[39misinstance\u001b[39m(path_or_buf, StringIO)\n",
      "File \u001b[1;32mc:\\Users\\minht\\.conda\\envs\\DataAnalyst\\lib\\site-packages\\pandas\\io\\formats\\csvs.py:241\u001b[0m, in \u001b[0;36mCSVFormatter.save\u001b[1;34m(self)\u001b[0m\n\u001b[0;32m    237\u001b[0m \u001b[39m\u001b[39m\u001b[39m\"\"\"\u001b[39;00m\n\u001b[0;32m    238\u001b[0m \u001b[39mCreate the writer & save.\u001b[39;00m\n\u001b[0;32m    239\u001b[0m \u001b[39m\"\"\"\u001b[39;00m\n\u001b[0;32m    240\u001b[0m \u001b[39m# apply compression and byte/text conversion\u001b[39;00m\n\u001b[1;32m--> 241\u001b[0m \u001b[39mwith\u001b[39;00m get_handle(\n\u001b[0;32m    242\u001b[0m     \u001b[39mself\u001b[39;49m\u001b[39m.\u001b[39;49mfilepath_or_buffer,\n\u001b[0;32m    243\u001b[0m     \u001b[39mself\u001b[39;49m\u001b[39m.\u001b[39;49mmode,\n\u001b[0;32m    244\u001b[0m     encoding\u001b[39m=\u001b[39;49m\u001b[39mself\u001b[39;49m\u001b[39m.\u001b[39;49mencoding,\n\u001b[0;32m    245\u001b[0m     errors\u001b[39m=\u001b[39;49m\u001b[39mself\u001b[39;49m\u001b[39m.\u001b[39;49merrors,\n\u001b[0;32m    246\u001b[0m     compression\u001b[39m=\u001b[39;49m\u001b[39mself\u001b[39;49m\u001b[39m.\u001b[39;49mcompression,\n\u001b[0;32m    247\u001b[0m     storage_options\u001b[39m=\u001b[39;49m\u001b[39mself\u001b[39;49m\u001b[39m.\u001b[39;49mstorage_options,\n\u001b[0;32m    248\u001b[0m ) \u001b[39mas\u001b[39;00m handles:\n\u001b[0;32m    249\u001b[0m \n\u001b[0;32m    250\u001b[0m     \u001b[39m# Note: self.encoding is irrelevant here\u001b[39;00m\n\u001b[0;32m    251\u001b[0m     \u001b[39mself\u001b[39m\u001b[39m.\u001b[39mwriter \u001b[39m=\u001b[39m csvlib\u001b[39m.\u001b[39mwriter(\n\u001b[0;32m    252\u001b[0m         handles\u001b[39m.\u001b[39mhandle,\n\u001b[0;32m    253\u001b[0m         lineterminator\u001b[39m=\u001b[39m\u001b[39mself\u001b[39m\u001b[39m.\u001b[39mlineterminator,\n\u001b[1;32m   (...)\u001b[0m\n\u001b[0;32m    258\u001b[0m         quotechar\u001b[39m=\u001b[39m\u001b[39mself\u001b[39m\u001b[39m.\u001b[39mquotechar,\n\u001b[0;32m    259\u001b[0m     )\n\u001b[0;32m    261\u001b[0m     \u001b[39mself\u001b[39m\u001b[39m.\u001b[39m_save()\n",
      "File \u001b[1;32mc:\\Users\\minht\\.conda\\envs\\DataAnalyst\\lib\\site-packages\\pandas\\io\\common.py:856\u001b[0m, in \u001b[0;36mget_handle\u001b[1;34m(path_or_buf, mode, encoding, compression, memory_map, is_text, errors, storage_options)\u001b[0m\n\u001b[0;32m    851\u001b[0m \u001b[39melif\u001b[39;00m \u001b[39misinstance\u001b[39m(handle, \u001b[39mstr\u001b[39m):\n\u001b[0;32m    852\u001b[0m     \u001b[39m# Check whether the filename is to be opened in binary mode.\u001b[39;00m\n\u001b[0;32m    853\u001b[0m     \u001b[39m# Binary mode does not support 'encoding' and 'newline'.\u001b[39;00m\n\u001b[0;32m    854\u001b[0m     \u001b[39mif\u001b[39;00m ioargs\u001b[39m.\u001b[39mencoding \u001b[39mand\u001b[39;00m \u001b[39m\"\u001b[39m\u001b[39mb\u001b[39m\u001b[39m\"\u001b[39m \u001b[39mnot\u001b[39;00m \u001b[39min\u001b[39;00m ioargs\u001b[39m.\u001b[39mmode:\n\u001b[0;32m    855\u001b[0m         \u001b[39m# Encoding\u001b[39;00m\n\u001b[1;32m--> 856\u001b[0m         handle \u001b[39m=\u001b[39m \u001b[39mopen\u001b[39;49m(\n\u001b[0;32m    857\u001b[0m             handle,\n\u001b[0;32m    858\u001b[0m             ioargs\u001b[39m.\u001b[39;49mmode,\n\u001b[0;32m    859\u001b[0m             encoding\u001b[39m=\u001b[39;49mioargs\u001b[39m.\u001b[39;49mencoding,\n\u001b[0;32m    860\u001b[0m             errors\u001b[39m=\u001b[39;49merrors,\n\u001b[0;32m    861\u001b[0m             newline\u001b[39m=\u001b[39;49m\u001b[39m\"\u001b[39;49m\u001b[39m\"\u001b[39;49m,\n\u001b[0;32m    862\u001b[0m         )\n\u001b[0;32m    863\u001b[0m     \u001b[39melse\u001b[39;00m:\n\u001b[0;32m    864\u001b[0m         \u001b[39m# Binary mode\u001b[39;00m\n\u001b[0;32m    865\u001b[0m         handle \u001b[39m=\u001b[39m \u001b[39mopen\u001b[39m(handle, ioargs\u001b[39m.\u001b[39mmode)\n",
      "\u001b[1;31mPermissionError\u001b[0m: [Errno 13] Permission denied: 'temp_2.csv'"
     ]
    }
   ],
   "source": [
    "temp_2.to_csv('temp_2.csv', index=False)"
   ]
  },
  {
   "cell_type": "code",
   "execution_count": null,
   "metadata": {},
   "outputs": [],
   "source": [
    "# How to map them accordingly"
   ]
  }
 ],
 "metadata": {
  "kernelspec": {
   "display_name": "DataAnalyst",
   "language": "python",
   "name": "python3"
  },
  "language_info": {
   "codemirror_mode": {
    "name": "ipython",
    "version": 3
   },
   "file_extension": ".py",
   "mimetype": "text/x-python",
   "name": "python",
   "nbconvert_exporter": "python",
   "pygments_lexer": "ipython3",
   "version": "3.9.16"
  },
  "orig_nbformat": 4,
  "vscode": {
   "interpreter": {
    "hash": "290d94be7e3a0b4169c216933207cf9d2ebe52a84305fcffeafb52517847653b"
   }
  }
 },
 "nbformat": 4,
 "nbformat_minor": 2
}
